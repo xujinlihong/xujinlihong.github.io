{
  "cells": [
    {
      "cell_type": "markdown",
      "metadata": {},
      "source": [
        "# Ex3 - Getting and Knowing your Data\n",
        "\n",
        "This time we are going to pull data directly from the internet. Special\n",
        "thanks to: https://github.com/justmarkham for sharing the dataset and\n",
        "materials.\n",
        "\n",
        "### Step 1. Import the necessary libraries"
      ],
      "id": "26a5c28f-7265-428f-8c2f-5c8161937ada"
    },
    {
      "cell_type": "code",
      "execution_count": 1,
      "metadata": {},
      "outputs": [],
      "source": [
        "import pandas as pd"
      ],
      "id": "cell-3"
    },
    {
      "cell_type": "markdown",
      "metadata": {},
      "source": [
        "### Step 2. Import the dataset from this [address](https://raw.githubusercontent.com/justmarkham/DAT8/master/data/u.user)."
      ],
      "id": "96e04dd6-71b4-4461-8e8f-23c92cb47301"
    },
    {
      "cell_type": "code",
      "execution_count": 3,
      "metadata": {},
      "outputs": [
        {
          "output_type": "stream",
          "name": "stdout",
          "text": [
            "   user_id  age gender  occupation zip_code\n",
            "0        1   24      M  technician    85711\n",
            "1        2   53      F       other    94043\n",
            "2        3   23      M      writer    32067\n",
            "3        4   24      M  technician    43537\n",
            "4        5   33      F       other    15213"
          ]
        }
      ],
      "source": [
        "url = 'https://raw.githubusercontent.com/justmarkham/DAT8/master/data/u.user'\n",
        "\n",
        "\n",
        "user_data = pd.read_csv(url, delimiter='|')\n",
        "\n",
        "\n",
        "print(user_data.head())\n"
      ],
      "id": "cell-5"
    },
    {
      "cell_type": "markdown",
      "metadata": {},
      "source": [
        "### Step 3. Assign it to a variable called users and use the ‘user_id’ as index"
      ],
      "id": "714023a3-3114-4403-89c6-d77e4a83e1c8"
    },
    {
      "cell_type": "code",
      "execution_count": 4,
      "metadata": {},
      "outputs": [
        {
          "output_type": "stream",
          "name": "stdout",
          "text": [
            "         age gender  occupation zip_code\n",
            "user_id                                 \n",
            "1         24      M  technician    85711\n",
            "2         53      F       other    94043\n",
            "3         23      M      writer    32067\n",
            "4         24      M  technician    43537\n",
            "5         33      F       other    15213"
          ]
        }
      ],
      "source": [
        "\n",
        "url = 'https://raw.githubusercontent.com/justmarkham/DAT8/master/data/u.user'\n",
        "\n",
        "\n",
        "users = pd.read_csv(url, delimiter='|', index_col='user_id')\n",
        "\n",
        "\n",
        "print(users.head())\n"
      ],
      "id": "cell-7"
    },
    {
      "cell_type": "markdown",
      "metadata": {},
      "source": [
        "### Step 4. See the first 25 entries"
      ],
      "id": "114ec2d0-e4b1-4b26-b7e0-ad246ee78eb2"
    },
    {
      "cell_type": "code",
      "execution_count": 5,
      "metadata": {
        "scrolled": true
      },
      "outputs": [
        {
          "output_type": "stream",
          "name": "stdout",
          "text": [
            "         age gender     occupation zip_code\n",
            "user_id                                    \n",
            "1         24      M     technician    85711\n",
            "2         53      F          other    94043\n",
            "3         23      M         writer    32067\n",
            "4         24      M     technician    43537\n",
            "5         33      F          other    15213\n",
            "6         42      M      executive    98101\n",
            "7         57      M  administrator    91344\n",
            "8         36      M  administrator    05201\n",
            "9         29      M        student    01002\n",
            "10        53      M         lawyer    90703\n",
            "11        39      F          other    30329\n",
            "12        28      F          other    06405\n",
            "13        47      M       educator    29206\n",
            "14        45      M      scientist    55106\n",
            "15        49      F       educator    97301\n",
            "16        21      M  entertainment    10309\n",
            "17        30      M     programmer    06355\n",
            "18        35      F          other    37212\n",
            "19        40      M      librarian    02138\n",
            "20        42      F      homemaker    95660\n",
            "21        26      M         writer    30068\n",
            "22        25      M         writer    40206\n",
            "23        30      F         artist    48197\n",
            "24        21      F         artist    94533\n",
            "25        39      M       engineer    55107"
          ]
        }
      ],
      "source": [
        "\n",
        "print(users.head(25))\n"
      ],
      "id": "cell-9"
    },
    {
      "cell_type": "markdown",
      "metadata": {},
      "source": [
        "### Step 5. See the last 10 entries"
      ],
      "id": "66067822-9978-498c-a37c-d1940b233ee0"
    },
    {
      "cell_type": "code",
      "execution_count": 6,
      "metadata": {
        "scrolled": true
      },
      "outputs": [
        {
          "output_type": "stream",
          "name": "stdout",
          "text": [
            "         age gender     occupation zip_code\n",
            "user_id                                    \n",
            "934       61      M       engineer    22902\n",
            "935       42      M         doctor    66221\n",
            "936       24      M          other    32789\n",
            "937       48      M       educator    98072\n",
            "938       38      F     technician    55038\n",
            "939       26      F        student    33319\n",
            "940       32      M  administrator    02215\n",
            "941       20      M        student    97229\n",
            "942       48      F      librarian    78209\n",
            "943       22      M        student    77841"
          ]
        }
      ],
      "source": [
        "\n",
        "print(users.tail(10))\n"
      ],
      "id": "cell-11"
    },
    {
      "cell_type": "markdown",
      "metadata": {},
      "source": [
        "### Step 6. What is the number of observations in the dataset?"
      ],
      "id": "dd7e5c55-1a3c-4b3e-92ec-ffeb6e8f02a6"
    },
    {
      "cell_type": "code",
      "execution_count": 7,
      "metadata": {},
      "outputs": [
        {
          "output_type": "stream",
          "name": "stdout",
          "text": [
            "Number of observations in the dataset: 943"
          ]
        }
      ],
      "source": [
        "# Get the number of observations (rows) in the dataset\n",
        "num_observations = users.shape[0]\n",
        "\n",
        "# Print the number of observations\n",
        "print(f\"Number of observations in the dataset: {num_observations}\")\n"
      ],
      "id": "cell-13"
    },
    {
      "cell_type": "markdown",
      "metadata": {},
      "source": [
        "### Step 7. What is the number of columns in the dataset?"
      ],
      "id": "5ae11374-b38c-4c1b-803e-196ca1ecf07b"
    },
    {
      "cell_type": "code",
      "execution_count": 8,
      "metadata": {},
      "outputs": [
        {
          "output_type": "stream",
          "name": "stdout",
          "text": [
            "Number of columns in the dataset: 4"
          ]
        }
      ],
      "source": [
        "\n",
        "num_columns = users.shape[1]\n",
        "\n",
        "\n",
        "print(f\"Number of columns in the dataset: {num_columns}\")\n"
      ],
      "id": "cell-15"
    },
    {
      "cell_type": "markdown",
      "metadata": {},
      "source": [
        "### Step 8. Print the name of all the columns."
      ],
      "id": "84f9629d-abb4-43ff-ad7b-f37ec2b3e6d1"
    },
    {
      "cell_type": "code",
      "execution_count": 9,
      "metadata": {},
      "outputs": [
        {
          "output_type": "stream",
          "name": "stdout",
          "text": [
            "Index(['age', 'gender', 'occupation', 'zip_code'], dtype='object')"
          ]
        }
      ],
      "source": [
        "\n",
        "print(users.columns)\n"
      ],
      "id": "cell-17"
    },
    {
      "cell_type": "markdown",
      "metadata": {},
      "source": [
        "### Step 9. How is the dataset indexed?"
      ],
      "id": "b04231c8-c48f-49ee-a89d-e439ef0843df"
    },
    {
      "cell_type": "code",
      "execution_count": 10,
      "metadata": {},
      "outputs": [
        {
          "output_type": "stream",
          "name": "stdout",
          "text": [
            "Index([  1,   2,   3,   4,   5,   6,   7,   8,   9,  10,\n",
            "       ...\n",
            "       934, 935, 936, 937, 938, 939, 940, 941, 942, 943],\n",
            "      dtype='int64', name='user_id', length=943)"
          ]
        }
      ],
      "source": [
        "\n",
        "print(users.index)\n"
      ],
      "id": "cell-19"
    },
    {
      "cell_type": "markdown",
      "metadata": {},
      "source": [
        "### Step 10. What is the data type of each column?"
      ],
      "id": "2e973125-a844-4e97-b45d-d33d02e78635"
    },
    {
      "cell_type": "code",
      "execution_count": 11,
      "metadata": {},
      "outputs": [
        {
          "output_type": "stream",
          "name": "stdout",
          "text": [
            "age            int64\n",
            "gender        object\n",
            "occupation    object\n",
            "zip_code      object\n",
            "dtype: object"
          ]
        }
      ],
      "source": [
        "\n",
        "print(users.dtypes)\n"
      ],
      "id": "cell-21"
    },
    {
      "cell_type": "markdown",
      "metadata": {},
      "source": [
        "### Step 11. Print only the occupation column"
      ],
      "id": "18d1d58f-3f78-4dad-ac4f-367a19601ed9"
    },
    {
      "cell_type": "code",
      "execution_count": 12,
      "metadata": {},
      "outputs": [
        {
          "output_type": "stream",
          "name": "stdout",
          "text": [
            "user_id\n",
            "1         technician\n",
            "2              other\n",
            "3             writer\n",
            "4         technician\n",
            "5              other\n",
            "           ...      \n",
            "939          student\n",
            "940    administrator\n",
            "941          student\n",
            "942        librarian\n",
            "943          student\n",
            "Name: occupation, Length: 943, dtype: object"
          ]
        }
      ],
      "source": [
        "\n",
        "print(users['occupation'])\n"
      ],
      "id": "cell-23"
    },
    {
      "cell_type": "markdown",
      "metadata": {},
      "source": [
        "### Step 12. How many different occupations are in this dataset?"
      ],
      "id": "00328bc5-9be5-49ef-be65-1a8d20a29525"
    },
    {
      "cell_type": "code",
      "execution_count": 13,
      "metadata": {},
      "outputs": [
        {
          "output_type": "stream",
          "name": "stdout",
          "text": [
            "Number of different occupations in the dataset: 21"
          ]
        }
      ],
      "source": [
        "num_occupations = users['occupation'].nunique()\n",
        "\n",
        "print(f\"Number of different occupations in the dataset: {num_occupations}\")\n"
      ],
      "id": "cell-25"
    },
    {
      "cell_type": "markdown",
      "metadata": {},
      "source": [
        "### Step 13. What is the most frequent occupation?"
      ],
      "id": "dee41302-be2e-46e5-9e2c-dccda376c9b9"
    },
    {
      "cell_type": "code",
      "execution_count": 14,
      "metadata": {},
      "outputs": [
        {
          "output_type": "stream",
          "name": "stdout",
          "text": [
            "The most frequent occupation in the dataset is: student"
          ]
        }
      ],
      "source": [
        "most_frequent_occupation = users['occupation'].mode()[0]\n",
        "\n",
        "\n",
        "print(f\"The most frequent occupation in the dataset is: {most_frequent_occupation}\")\n"
      ],
      "id": "cell-27"
    },
    {
      "cell_type": "markdown",
      "metadata": {},
      "source": [
        "### Step 14. Summarize the DataFrame."
      ],
      "id": "c97765d3-5694-478f-99af-a5abf67eaf8d"
    },
    {
      "cell_type": "code",
      "execution_count": 15,
      "metadata": {},
      "outputs": [
        {
          "output_type": "stream",
          "name": "stdout",
          "text": [
            "              age\n",
            "count  943.000000\n",
            "mean    34.051962\n",
            "std     12.192740\n",
            "min      7.000000\n",
            "25%     25.000000\n",
            "50%     31.000000\n",
            "75%     43.000000\n",
            "max     73.000000"
          ]
        }
      ],
      "source": [
        "print(users.describe())\n"
      ],
      "id": "cell-29"
    },
    {
      "cell_type": "code",
      "execution_count": 16,
      "metadata": {},
      "outputs": [
        {
          "output_type": "stream",
          "name": "stdout",
          "text": [
            "<class 'pandas.core.frame.DataFrame'>\n",
            "Index: 943 entries, 1 to 943\n",
            "Data columns (total 4 columns):\n",
            " #   Column      Non-Null Count  Dtype \n",
            "---  ------      --------------  ----- \n",
            " 0   age         943 non-null    int64 \n",
            " 1   gender      943 non-null    object\n",
            " 2   occupation  943 non-null    object\n",
            " 3   zip_code    943 non-null    object\n",
            "dtypes: int64(1), object(3)\n",
            "memory usage: 36.8+ KB\n",
            "None"
          ]
        }
      ],
      "source": [
        "print(users.info())\n"
      ],
      "id": "cell-30"
    },
    {
      "cell_type": "markdown",
      "metadata": {},
      "source": [
        "### Step 15. Summarize all the columns"
      ],
      "id": "32ef237d-391e-476b-861d-e5ac0472f00f"
    },
    {
      "cell_type": "code",
      "execution_count": 17,
      "metadata": {},
      "outputs": [
        {
          "output_type": "stream",
          "name": "stdout",
          "text": [
            "            count unique      top freq       mean       std  min   25%   50%  \\\n",
            "age         943.0    NaN      NaN  NaN  34.051962  12.19274  7.0  25.0  31.0   \n",
            "gender        943      2        M  670        NaN       NaN  NaN   NaN   NaN   \n",
            "occupation    943     21  student  196        NaN       NaN  NaN   NaN   NaN   \n",
            "zip_code      943    795    55414    9        NaN       NaN  NaN   NaN   NaN   \n",
            "\n",
            "             75%   max  \n",
            "age         43.0  73.0  \n",
            "gender       NaN   NaN  \n",
            "occupation   NaN   NaN  \n",
            "zip_code     NaN   NaN  "
          ]
        }
      ],
      "source": [
        "summary = users.describe(include='all').transpose()\n",
        "\n",
        "\n",
        "print(summary)\n",
        "\n",
        "\n"
      ],
      "id": "cell-32"
    },
    {
      "cell_type": "markdown",
      "metadata": {},
      "source": [
        "### Step 16. Summarize only the occupation column"
      ],
      "id": "3b3314af-5c55-4769-9099-d8c278ced08b"
    },
    {
      "cell_type": "code",
      "execution_count": 18,
      "metadata": {},
      "outputs": [
        {
          "output_type": "stream",
          "name": "stdout",
          "text": [
            "count         943\n",
            "unique         21\n",
            "top       student\n",
            "freq          196\n",
            "Name: occupation, dtype: object"
          ]
        }
      ],
      "source": [
        "occupation_summary = users['occupation'].describe()\n",
        "\n",
        "print(occupation_summary)\n"
      ],
      "id": "cell-34"
    },
    {
      "cell_type": "markdown",
      "metadata": {},
      "source": [
        "### Step 17. What is the mean age of users?"
      ],
      "id": "dc90aaaa-83fc-465b-8dfe-b60f3fcdffa8"
    },
    {
      "cell_type": "code",
      "execution_count": 19,
      "metadata": {},
      "outputs": [
        {
          "output_type": "stream",
          "name": "stdout",
          "text": [
            "The mean age of users is: 34.05196182396607"
          ]
        }
      ],
      "source": [
        "mean_age = users['age'].mean()\n",
        "\n",
        "print(f\"The mean age of users is: {mean_age}\")\n"
      ],
      "id": "cell-36"
    },
    {
      "cell_type": "markdown",
      "metadata": {},
      "source": [
        "### Step 18. What is the age with least occurrence?"
      ],
      "id": "2bcc6516-562c-434e-8658-82dbe5987916"
    },
    {
      "cell_type": "code",
      "execution_count": 20,
      "metadata": {},
      "outputs": [
        {
          "output_type": "stream",
          "name": "stdout",
          "text": [
            "age\n",
            "7     1\n",
            "66    1\n",
            "11    1\n",
            "10    1\n",
            "73    1\n",
            "Name: age, dtype: int64"
          ]
        }
      ],
      "source": [
        "\n",
        "age_counts = users['age'].value_counts()\n",
        "\n",
        "\n",
        "least_occurrence_ages = age_counts[age_counts == 1]\n",
        "\n",
        "\n",
        "least_occurrence_ages.name = 'age'\n",
        "\n",
        "\n",
        "print(least_occurrence_ages)\n",
        "\n",
        "\n",
        "\n",
        "\n"
      ],
      "id": "cell-38"
    }
  ],
  "nbformat": 4,
  "nbformat_minor": 5,
  "metadata": {
    "anaconda-cloud": {},
    "kernelspec": {
      "name": "python3",
      "display_name": "base",
      "language": "python"
    },
    "language_info": {
      "name": "python",
      "codemirror_mode": {
        "name": "ipython",
        "version": "3"
      },
      "file_extension": ".py",
      "mimetype": "text/x-python",
      "nbconvert_exporter": "python",
      "pygments_lexer": "ipython3",
      "version": "3.12.7"
    }
  }
}