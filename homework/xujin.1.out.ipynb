{
  "cells": [
    {
      "cell_type": "markdown",
      "metadata": {},
      "source": [
        "#"
      ],
      "id": "3882e29b-3896-41fe-907e-09fb08d00d3e"
    },
    {
      "cell_type": "code",
      "execution_count": 1,
      "metadata": {},
      "outputs": [
        {
          "output_type": "stream",
          "name": "stdout",
          "text": [
            " 66042"
          ]
        }
      ],
      "source": [
        "import pandas as pd\n",
        "data = pd.read_csv('seattle_pet.1.csv')\n",
        "num_pets = data. shape [0]\n",
        "print(f\" {num_pets}\")"
      ],
      "id": "cell-0"
    },
    {
      "cell_type": "code",
      "execution_count": 7,
      "metadata": {},
      "outputs": [
        {
          "output_type": "stream",
          "name": "stdout",
          "text": [
            " 7"
          ]
        }
      ],
      "source": [
        "num_variables = data.shape [1]\n",
        "print(f\" {num_variables}\")"
      ],
      "id": "cell-1"
    },
    {
      "cell_type": "code",
      "execution_count": 8,
      "metadata": {},
      "outputs": [
        {
          "output_type": "stream",
          "name": "stdout",
          "text": [
            "animal_s_name\n",
            "Lucy       566\n",
            "Bella      451\n",
            "Charlie    447\n",
            "Name: count, dtype: int64"
          ]
        }
      ],
      "source": [
        "name_counts = data['animal_s_name']. value_counts()\n",
        "top_three_names = name_counts. head (3)\n",
        "print (top_three_names)"
      ],
      "id": "cell-2"
    }
  ],
  "nbformat": 4,
  "nbformat_minor": 5,
  "metadata": {
    "kernelspec": {
      "name": "python3",
      "display_name": "base",
      "language": "python"
    },
    "language_info": {
      "name": "python",
      "codemirror_mode": {
        "name": "ipython",
        "version": "3"
      },
      "file_extension": ".py",
      "mimetype": "text/x-python",
      "nbconvert_exporter": "python",
      "pygments_lexer": "ipython3",
      "version": "3.10.9"
    }
  }
}