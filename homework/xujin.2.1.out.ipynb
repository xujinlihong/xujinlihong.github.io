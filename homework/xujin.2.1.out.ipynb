{
  "cells": [
    {
      "cell_type": "markdown",
      "metadata": {},
      "source": [
        "#"
      ],
      "id": "dcf36821-7f53-4bac-aa1b-7c2151823b21"
    },
    {
      "cell_type": "code",
      "execution_count": 15,
      "metadata": {},
      "outputs": [
        {
          "output_type": "stream",
          "name": "stdout",
          "text": [
            "<class 'pandas.core.frame.DataFrame'>\n",
            "RangeIndex: 935 entries, 0 to 934\n",
            "Data columns (total 26 columns):\n",
            " #   Column                 Non-Null Count  Dtype \n",
            "---  ------                 --------------  ----- \n",
            " 0   id                     935 non-null    int64 \n",
            " 1   firstname              935 non-null    object\n",
            " 2   surname                906 non-null    object\n",
            " 3   year                   935 non-null    int64 \n",
            " 4   category               935 non-null    object\n",
            " 5   affiliation            685 non-null    object\n",
            " 6   city                   680 non-null    object\n",
            " 7   country                681 non-null    object\n",
            " 8   born_date              902 non-null    object\n",
            " 9   died_date              627 non-null    object\n",
            " 10  gender                 935 non-null    object\n",
            " 11  born_city              907 non-null    object\n",
            " 12  born_country           907 non-null    object\n",
            " 13  born_country_code      907 non-null    object\n",
            " 14  died_city              608 non-null    object\n",
            " 15  died_country           614 non-null    object\n",
            " 16  died_country_code      614 non-null    object\n",
            " 17  overall_motivation     17 non-null     object\n",
            " 18  share                  935 non-null    int64 \n",
            " 19  motivation             935 non-null    object\n",
            " 20  born_country_original  907 non-null    object\n",
            " 21  born_city_original     907 non-null    object\n",
            " 22  died_country_original  614 non-null    object\n",
            " 23  died_city_original     608 non-null    object\n",
            " 24  city_original          680 non-null    object\n",
            " 25  country_original       681 non-null    object\n",
            "dtypes: int64(3), object(23)\n",
            "memory usage: 190.0+ KB\n",
            "None"
          ]
        }
      ],
      "source": [
        "import pandas as pd\n",
        "data = pd.read_csv('nobel.2.1.csv')\n",
        "print(data.info())"
      ],
      "id": "cell-0"
    },
    {
      "cell_type": "code",
      "execution_count": 2,
      "metadata": {},
      "outputs": [
        {
          "output_type": "stream",
          "name": "stdout",
          "text": [
            "Index(['id', 'firstname', 'surname', 'year', 'category', 'affiliation', 'city',\n",
            "       'country', 'born_date', 'died_date', 'gender', 'born_city',\n",
            "       'born_country', 'born_country_code', 'died_city', 'died_country',\n",
            "       'died_country_code', 'overall_motivation', 'share', 'motivation',\n",
            "       'born_country_original', 'born_city_original', 'died_country_original',\n",
            "       'died_city_original', 'city_original', 'country_original'],\n",
            "      dtype='object')"
          ]
        }
      ],
      "source": [
        "print(data.columns)"
      ],
      "id": "cell-1"
    },
    {
      "cell_type": "code",
      "execution_count": 3,
      "metadata": {},
      "outputs": [
        {
          "output_type": "stream",
          "name": "stdout",
          "text": [
            "(228, 26)"
          ]
        }
      ],
      "source": [
        "nobel_living = data[\n",
        "        (data['country'].notna ()) & \n",
        "    (data['gender'] !=  'org') & \n",
        "    (data['died_date'].isna())\n",
        "]\n",
        "print(nobel_living.shape)"
      ],
      "id": "cell-2"
    },
    {
      "cell_type": "code",
      "execution_count": 4,
      "metadata": {},
      "outputs": [
        {
          "output_type": "stream",
          "name": "stdout",
          "text": [
            ": USA"
          ]
        }
      ],
      "source": [
        "location_counts = nobel_living['country']. value_counts ()\n",
        "most_common_location = location_counts.idxmax()\n",
        "print(f\": {most_common_location}\")"
      ],
      "id": "cell-3"
    }
  ],
  "nbformat": 4,
  "nbformat_minor": 5,
  "metadata": {
    "kernelspec": {
      "name": "python3",
      "display_name": "base",
      "language": "python"
    },
    "language_info": {
      "name": "python",
      "codemirror_mode": {
        "name": "ipython",
        "version": "3"
      },
      "file_extension": ".py",
      "mimetype": "text/x-python",
      "nbconvert_exporter": "python",
      "pygments_lexer": "ipython3",
      "version": "3.10.9"
    }
  }
}